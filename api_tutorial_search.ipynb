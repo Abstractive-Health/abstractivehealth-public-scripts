{
 "cells": [
  {
   "cell_type": "markdown",
   "metadata": {},
   "source": [
    "import base64\n",
    "import json\n",
    "import requests"
   ]
  },
  {
   "cell_type": "markdown",
   "metadata": {},
   "source": [
    "Get Token"
   ]
  },
  {
   "cell_type": "code",
   "execution_count": null,
   "metadata": {},
   "outputs": [],
   "source": [
    "token_get_input = {\n",
    "    \"user_api_email\": \"\",\n",
    "    \"username_api\": \"\", # same as the email provided\n",
    "    \"user_api_password\": \"\",\n",
    "    \"token\": \"\"\n",
    "}"
   ]
  },
  {
   "cell_type": "code",
   "execution_count": null,
   "metadata": {},
   "outputs": [],
   "source": [
    "request_url = \"\" # GET TOKEN URL\n",
    "exchange0_output = requests.post(request_url, json=token_get_input)\n",
    "print(exchange0_output.content)"
   ]
  },
  {
   "cell_type": "code",
   "execution_count": null,
   "metadata": {},
   "outputs": [],
   "source": [
    "access_token = json.loads(exchange0_output.content.decode(\"utf-8\"))[\"access_token\"]\n",
    "print(access_token)"
   ]
  },
  {
   "cell_type": "markdown",
   "metadata": {},
   "source": [
    "Patient Search"
   ]
  },
  {
   "cell_type": "code",
   "execution_count": null,
   "metadata": {},
   "outputs": [],
   "source": [
    "search1_input = {\n",
    "    \"user_api_email\": \"\",\n",
    "    \"cdas\": True, # return in cda format, default True\n",
    "    \"fhirs\": True, # return in fhir format, default False. Both formats can be true simultaneously.\n",
    "    \"token\": access_token,\n",
    "    \"patient_metadata_set\":  [ # we will consider the first 5 specified address with no order among them\n",
    "      {\n",
    "        \"given_name\": \"A\",\n",
    "        \"family_name\": \"B\",\n",
    "        \"administrative_gender_code\": \"M\", # Or F, Or U\n",
    "        \"birth_time\": \"YYYYMMDD\",\n",
    "        \"phone_number\": \"ddd-ddd-dddd\",\n",
    "        \"email\": \"\",\n",
    "        \"street_address_line\": \"\",\n",
    "        \"city\": \"\",\n",
    "        \"state\": \"NY\",\n",
    "        \"postal_code\": \"10001\",\n",
    "        \"country\": \"US\"\n",
    "      },\n",
    "      {\n",
    "        \"given_name\": \"Aa\",\n",
    "        \"family_name\": \"B\",\n",
    "        \"administrative_gender_code\": \"M\", # Or F, Or U\n",
    "        \"birth_time\": \"YYYYMMDD\",\n",
    "        \"phone_number\": \"ddd-ddd-dddd\",\n",
    "        \"email\": \"\",\n",
    "        \"street_address_line\": \"\",\n",
    "        \"city\": \"\",\n",
    "        \"state\": \"NY\",\n",
    "        \"postal_code\": \"10002\",\n",
    "        \"country\": \"US\"\n",
    "      }\n",
    "    ]\n",
    "}"
   ]
  },
  {
   "cell_type": "code",
   "execution_count": null,
   "metadata": {},
   "outputs": [],
   "source": [
    "search_request_url = \"\" # PATIENT SEARCH URL\n",
    "search1_output = requests.post(search_request_url, json=search1_input)\n",
    "print(search1_output.content)\n",
    "\n",
    "conversation_id = search1_output.json()[\"conversation_id\"]"
   ]
  },
  {
   "cell_type": "code",
   "execution_count": null,
   "metadata": {},
   "outputs": [],
   "source": [
    "search2_input = {\n",
    "    \"conversation_id\": conversation_id, # the conversation_id you got from exchange1_output,\n",
    "    \"user_api_email\": \"\",\n",
    "    \"token\": access_token, \n",
    "}"
   ]
  },
  {
   "cell_type": "code",
   "execution_count": null,
   "metadata": {},
   "outputs": [],
   "source": [
    "search_retrieve_url = \"\" # DOC RETRIEVAL URL\n",
    "search2_output = requests.post(search_retrieve_url, json=search2_input)\n",
    "print(search2_output.content)"
   ]
  },
  {
   "cell_type": "code",
   "execution_count": null,
   "metadata": {},
   "outputs": [],
   "source": [
    "# suppose it is done, you get a presigned url.\n",
    "output_json = requests.get(search2_output.json()[\"url\"]).content\n",
    "print(output_json)"
   ]
  }
 ],
 "metadata": {
  "language_info": {
   "name": "python"
  }
 },
 "nbformat": 4,
 "nbformat_minor": 2
}
