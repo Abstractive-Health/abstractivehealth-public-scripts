{
 "cells": [
  {
   "cell_type": "code",
   "execution_count": 1,
   "metadata": {},
   "outputs": [],
   "source": [
    "import base64\n",
    "import json\n",
    "import requests"
   ]
  },
  {
   "cell_type": "markdown",
   "metadata": {},
   "source": [
    "Get Token"
   ]
  },
  {
   "cell_type": "code",
   "execution_count": 2,
   "metadata": {},
   "outputs": [],
   "source": [
    "token_get_input = {\n",
    "    \"user_api_email\": \"\",\n",
    "    \"username_api\": \"\", # same as the email provided\n",
    "    \"user_api_password\": \"\",\n",
    "    \"token\": \"\"\n",
    "}"
   ]
  },
  {
   "cell_type": "code",
   "execution_count": null,
   "metadata": {},
   "outputs": [],
   "source": [
    "request_url = \"\" # GET TOKEN URL\n",
    "exchange0_output = requests.post(request_url, json=token_get_input)\n",
    "print(exchange0_output.content)"
   ]
  },
  {
   "cell_type": "code",
   "execution_count": null,
   "metadata": {},
   "outputs": [],
   "source": [
    "access_token = json.loads(exchange0_output.content.decode(\"utf-8\"))[\"access_token\"]\n",
    "print(access_token)"
   ]
  },
  {
   "cell_type": "markdown",
   "metadata": {},
   "source": [
    "Summarize PDF"
   ]
  },
  {
   "cell_type": "code",
   "execution_count": 5,
   "metadata": {},
   "outputs": [],
   "source": [
    "exchange1_input = {\n",
    "    \"input_type\": \"pdf\", # optional, default is pdf\n",
    "    \"streaming_url_as_data\": True, # optional, default is False\n",
    "    \"data\": \"\", # required string\n",
    "    \"section_entities\": True, # all 5 categories of output are optional and default False\n",
    "    \"section_summaries\": True, # so you could skip this key, say\n",
    "    \"meta_summary\": True,\n",
    "    \"meta_entities\": True,\n",
    "    \"patient_metadata\": True,\n",
    "    \"optimize_sections\": True,\n",
    "    \"scoring\": True, # optional, default is False\n",
    "    \"token\": access_token,\n",
    "    \"user_api_email\": \"\"\n",
    "    # other params listed in the API documentation will roll out slowly, and will all default to current behavior to be backward compatible\n",
    "}"
   ]
  },
  {
   "cell_type": "code",
   "execution_count": 6,
   "metadata": {},
   "outputs": [],
   "source": [
    "with open(\"your_pdf.pdf\", \"rb\") as f:\n",
    "    pdf = f.read()\n",
    "    # it does NOT matter what the current encoding of the pdf is, always base64 then utf-8\n",
    "    exchange1_input[\"data\"] = base64.b64encode(pdf).decode(\"utf-8\")\n",
    "    exchange1_input[\"streaming_url_as_data\"] = False"
   ]
  },
  {
   "cell_type": "code",
   "execution_count": null,
   "metadata": {},
   "outputs": [],
   "source": [
    "request_url = \"\" # SUMMARY REQUEST URL\n",
    "exchange1_output = requests.post(request_url, json=exchange1_input)\n",
    "print(exchange1_output.content)\n",
    "\n",
    "conversation_id = exchange1_output.json()[\"conversation_id\"]"
   ]
  },
  {
   "cell_type": "code",
   "execution_count": null,
   "metadata": {},
   "outputs": [],
   "source": [
    "print(exchange1_output)"
   ]
  },
  {
   "cell_type": "markdown",
   "metadata": {},
   "source": [
    "Alternatively you may pass us a presigned url, or a public url in the \"data\" field.\n",
    "\n",
    "\n",
    "Then pass it as a plain string, and make sure streaming_url_as_input is \"True\".\n",
    "\n",
    "\n",
    "There's no payload limit either way. The 2 options are purely for your convenience. \n",
    "\n",
    "\n",
    "Each PDF should be 200 pages or less."
   ]
  },
  {
   "cell_type": "code",
   "execution_count": 16,
   "metadata": {},
   "outputs": [],
   "source": [
    "exchange2_input = {\n",
    "    \"conversation_id\": conversation_id, # the conversation_id you got from exchange1_output,\n",
    "    \"user_api_email\": \"\",\n",
    "    \"token\": access_token, \n",
    "}"
   ]
  },
  {
   "cell_type": "code",
   "execution_count": null,
   "metadata": {},
   "outputs": [],
   "source": [
    "retrieve_url = \"\" # SUMMARY RETRIEVE URL\n",
    "exchange2_output = requests.post(retrieve_url, json=exchange2_input)\n",
    "print(exchange2_output.content)\n",
    "# this may be done or not done\n",
    "# please don't check too frequently, as checking has no bearing on speeding up the process.\n",
    "# checking frequency: recommend every minute, but will probably be fine every 15 seconds."
   ]
  },
  {
   "cell_type": "code",
   "execution_count": null,
   "metadata": {},
   "outputs": [],
   "source": [
    "# suppose it is done, you get a presigned url.\n",
    "output_json = requests.get(exchange2_output.json()[\"url\"]).content\n",
    "print(output_json)"
   ]
  },
  {
   "cell_type": "code",
   "execution_count": null,
   "metadata": {},
   "outputs": [],
   "source": [
    "with open(\"output.json\", \"wb\") as f:\n",
    "    f.write(output_json)"
   ]
  },
  {
   "cell_type": "markdown",
   "metadata": {},
   "source": [
    "Summarize CDA"
   ]
  },
  {
   "cell_type": "code",
   "execution_count": 5,
   "metadata": {},
   "outputs": [],
   "source": [
    "exchange1_input = {\n",
    "    \"input_type\": \"cda\", # optional, default is pdf\n",
    "    \"streaming_url_as_data\": True, # optional, default is False\n",
    "    \"data\": \"\", # required string\n",
    "    \"section_entities\": True, # all 5 categories of output are optional and default False\n",
    "    \"section_summaries\": True, # so you could skip this key, say\n",
    "    \"meta_summary\": True,\n",
    "    \"meta_entities\": True,\n",
    "    \"patient_metadata\": True,\n",
    "    \"optimize_sections\": False, # optional, default is False\n",
    "    \"token\": access_token,\n",
    "    \"scoring\": True,\n",
    "    \"user_api_email\": \"\"\n",
    "    # other params listed in the API documentation will roll out slowly, and will all default to current behavior to be backward compatible\n",
    "}"
   ]
  },
  {
   "cell_type": "code",
   "execution_count": 6,
   "metadata": {},
   "outputs": [],
   "source": [
    "with open(\"your_cdas.txt\", \"rb\") as f:\n",
    "    # txt should be cdas concatenated, <ClinicalDocument> objects one by one\n",
    "    # we use regex to parse out the ClinicalDocument objects, so whitespace or headers between objects are fine\n",
    "    cda = f.read()\n",
    "    # base64 then utf-8\n",
    "    exchange1_input[\"data\"] = base64.b64encode(cda).decode(\"utf-8\")\n",
    "    exchange1_input[\"streaming_url_as_data\"] = False"
   ]
  },
  {
   "cell_type": "code",
   "execution_count": null,
   "metadata": {},
   "outputs": [],
   "source": [
    "request_url = \"\" # SUMMARY REQUEST URL\n",
    "exchange1_output = requests.post(request_url, json=exchange1_input)\n",
    "print(exchange1_output.content)\n",
    "\n",
    "conversation_id = exchange1_output.json()[\"conversation_id\"]"
   ]
  },
  {
   "cell_type": "code",
   "execution_count": 8,
   "metadata": {},
   "outputs": [],
   "source": [
    "exchange2_input = {\n",
    "    \"conversation_id\": conversation_id, # the conversation_id you got from exchange1_output,\n",
    "    \"user_api_email\": \"\",\n",
    "    \"token\": access_token, \n",
    "}"
   ]
  },
  {
   "cell_type": "code",
   "execution_count": null,
   "metadata": {},
   "outputs": [],
   "source": [
    "retrieve_url = \"\" # SUMMARY RETRIEVE URL\n",
    "exchange2_output = requests.post(retrieve_url, json=exchange2_input)\n",
    "print(exchange2_output.content)\n",
    "# retrieval policy is the same as pdf"
   ]
  },
  {
   "cell_type": "code",
   "execution_count": null,
   "metadata": {},
   "outputs": [],
   "source": [
    "# suppose it is done, you get a presigned url.\n",
    "output_json = requests.get(exchange2_output.json()[\"url\"]).content\n",
    "print(output_json)"
   ]
  },
  {
   "cell_type": "markdown",
   "metadata": {},
   "source": [
    "Summarize FHIR"
   ]
  },
  {
   "cell_type": "code",
   "execution_count": null,
   "metadata": {},
   "outputs": [],
   "source": [
    "exchange1_input = {\n",
    "    \"input_type\": \"fhir\", # optional, default is pdf\n",
    "    \"streaming_url_as_data\": True, # optional, default is False\n",
    "    \"data\": \"\", # required string\n",
    "    \"section_entities\": True, # all 5 categories of output are optional and default False\n",
    "    \"section_summaries\": True, # so you could skip this key, say\n",
    "    \"meta_summary\": True,\n",
    "    \"meta_entities\": True,\n",
    "    \"patient_metadata\": True,\n",
    "    \"optimize_sections\": False, # optional, default is False\n",
    "    \"token\": access_token,\n",
    "    \"user_api_email\": \"\"\n",
    "    # other params listed in the API documentation will roll out slowly, and will all default to current behavior to be backward compatible\n",
    "}\n",
    "with open(\"your_json.json\", \"rb\") as f:\n",
    "    # a json list of fhir bundles\n",
    "    '''\n",
    "    [\n",
    "        {\n",
    "            \"fhirResource\": {\n",
    "                \"resourceType\": \"Bundle\",\n",
    "                \"id\": \"\",\n",
    "                \"meta\": {\n",
    "                    \"lastUpdated\": \"\"\n",
    "                },\n",
    "                \"entry\": []\n",
    "            }\n",
    "        },\n",
    "        {\n",
    "            \"fhirResource\": {\n",
    "                \"resourceType\": \"Bundle\",\n",
    "                \"id\": \"\",\n",
    "                \"meta\": {\n",
    "                    \"lastUpdated\": \"\"\n",
    "                },\n",
    "                \"entry\": []\n",
    "            }\n",
    "        }\n",
    "    ]\n",
    "    '''\n",
    "    fhir = f.read()\n",
    "    # base64 then utf-8\n",
    "    exchange1_input[\"data\"] = base64.b64encode(fhir).decode(\"utf-8\")\n",
    "    exchange1_input[\"streaming_url_as_data\"] = False\n",
    "request_url = \"\" # SUMMARY REQUEST URL\n",
    "exchange1_output = requests.post(request_url, json=exchange1_input)\n",
    "print(exchange1_output.content)\n",
    "\n",
    "conversation_id = exchange1_output.json()[\"conversation_id\"]\n",
    "print(conversation_id)"
   ]
  },
  {
   "cell_type": "code",
   "execution_count": null,
   "metadata": {},
   "outputs": [],
   "source": [
    "exchange2_input = {\n",
    "    \"conversation_id\": conversation_id, # the conversation_id you got from exchange1_output,\n",
    "    \"user_api_email\": \"\",\n",
    "    \"token\": access_token, \n",
    "}\n",
    "retrieve_url = \"\" # SUMMARY RETRIEVE URL\n",
    "exchange2_output = requests.post(retrieve_url, json=exchange2_input)\n",
    "print(exchange2_output.content)\n",
    "# suppose it is done, you get a presigned url.\n",
    "output_json = requests.get(exchange2_output.json()[\"url\"]).content\n",
    "print(output_json)"
   ]
  }
 ],
 "metadata": {
  "kernelspec": {
   "display_name": "venvcaddy",
   "language": "python",
   "name": "python3"
  },
  "language_info": {
   "codemirror_mode": {
    "name": "ipython",
    "version": 3
   },
   "file_extension": ".py",
   "mimetype": "text/x-python",
   "name": "python",
   "nbconvert_exporter": "python",
   "pygments_lexer": "ipython3",
   "version": "3.11.10"
  }
 },
 "nbformat": 4,
 "nbformat_minor": 2
}
