{
 "cells": [
  {
   "cell_type": "markdown",
   "metadata": {
    "vscode": {
     "languageId": "raw"
    }
   },
   "source": [
    "# 🚀 Demo: Abstractive Health API Integration\n",
    "\n",
    "Welcome to the Abstractive Health API demo! This notebook demonstrates a complete workflow for accessing and processing medical records through our API. The workflow is divided into three main parts:\n",
    "\n",
    "## Step 1: Authentication 🔑\n",
    "- Obtain your access token to interact with the API\n",
    "\n",
    "## Step 2: Data Aggregation 📊\n",
    "You can aggregate patient data in three ways:\n",
    "\n",
    "1. **Patient Search** 🔍\n",
    "   - Search the Carequality® network using patient demographics\n",
    "   - Retrieve clinical documents from connected healthcare providers\n",
    "\n",
    "2. **Document Upload** 📤\n",
    "   - Submit your own documents (CDA, FHIR, PDFs, images)\n",
    "   - Process documents you already have\n",
    "\n",
    "3. **Hybrid Approach** 🔄\n",
    "   - First search for patient records in the network\n",
    "   - Then add your own documents to the same conversation\n",
    "   - Combine network-retrieved and uploaded documents\n",
    "\n",
    "## Step 3: Summarization 🧠\n",
    "- Request an AI-generated clinical summary from the aggregated documents\n",
    "- Retrieve the structured JSON output\n",
    "- Optionally push back treatment notes to the network\n",
    "\n",
    "## Step 4: Push Medical Document 📝\n",
    "- Submit an updated treatment note for HIE reciprocity\n",
    "\n",
    "---\n",
    "\n",
    "# How to use this notebook\n",
    "\n",
    "- Run each cell sequentially\n",
    "- Replace placeholders (e.g., tokens, patient metadata) with your test or real data\n",
    "- Use the demo/test flag where appropriate to avoid affecting production\n",
    "- Explore the output: summary sections, structured entities (ICD‑10/CPT/HCC), and URLs to documents\n",
    "\n",
    "Let's get started! 💡\n"
   ]
  },
  {
   "cell_type": "markdown",
   "metadata": {},
   "source": [
    "# Step 1: Authentication 🔑"
   ]
  },
  {
   "cell_type": "markdown",
   "metadata": {},
   "source": [
    "This section demonstrates how to authenticate with the Abstractive Health API and obtain your access token. This token will be used for all subsequent API calls."
   ]
  },
  {
   "cell_type": "code",
   "execution_count": 3,
   "metadata": {},
   "outputs": [],
   "source": [
    "import json\n",
    "import time\n",
    "import base64\n",
    "import requests"
   ]
  },
  {
   "cell_type": "code",
   "execution_count": 1,
   "metadata": {},
   "outputs": [],
   "source": [
    "# Fill in your credentials here\n",
    "user_api_email = \"\"  # Your API email\n",
    "username_api = \"\"    # Your username\n",
    "user_api_password = \"\"  # Your API password\n",
    "\n",
    "# Authentication and Token Retrieval\n",
    "token_get_input = {\n",
    "    'user_api_email': user_api_email,\n",
    "    'username_api': username_api,\n",
    "    'user_api_password': user_api_password, \n",
    "    'token': \"\"\n",
    "}\n",
    "\n",
    "base_url = \"https://api.abstractive.ai/\"  # Production URL"
   ]
  },
  {
   "cell_type": "code",
   "execution_count": null,
   "metadata": {},
   "outputs": [],
   "source": [
    "request_url = f\"{base_url}get-token\"\n",
    "exchange0_output = requests.post(request_url, json=token_get_input)\n",
    "print(exchange0_output.content)"
   ]
  },
  {
   "cell_type": "code",
   "execution_count": null,
   "metadata": {},
   "outputs": [],
   "source": [
    "access_token = json.loads(exchange0_output.content.decode('utf-8'))['access_token']\n",
    "print(access_token)"
   ]
  },
  {
   "cell_type": "markdown",
   "metadata": {},
   "source": [
    "# Step 2: Data Aggregation 📊"
   ]
  },
  {
   "cell_type": "markdown",
   "metadata": {},
   "source": [
    "## Option A: Only Patient Search 🔍"
   ]
  },
  {
   "cell_type": "markdown",
   "metadata": {},
   "source": [
    "This section demonstrates how to search for patient records in the Carequality® network using patient demographics. This is the first method of data aggregation."
   ]
  },
  {
   "cell_type": "markdown",
   "metadata": {},
   "source": [
    "### Searching for the Patient"
   ]
  },
  {
   "cell_type": "code",
   "execution_count": 6,
   "metadata": {},
   "outputs": [],
   "source": [
    "# Define the API endpoint for search-patient\n",
    "search_patient_url = f\"{base_url}search-patient\"\n",
    "\n",
    "# Define patient metadata\n",
    "patient_metadata = [\n",
    "    {\n",
    "        \"demographics\": {\n",
    "            \"given_name\": \"\",  # Patient's first name\n",
    "            \"family_name\": \"\", # Patient's last name\n",
    "            \"birth_time\": \"\",  # Format: YYYYMMDD\n",
    "            \"administrative_gender_code\": \"\",  # \"M\" or \"F\"\n",
    "            \"phone_number\": \"\", # Optional. Format: 123-456-7890\n",
    "        },\n",
    "        \"addresses\": [\n",
    "            {\n",
    "                \"street_address_line\": \"\", # 123 Main St\n",
    "                \"city\": \"\", # Anytown\n",
    "                \"state\": \"\", # CA\n",
    "                \"postal_code\": \"\", # 12345\n",
    "                \"country\": \"\" # USA\n",
    "            }\n",
    "        ]  # Optional: Add address information if needed\n",
    "    },\n",
    "]\n",
    "\n",
    "# Create the search input\n",
    "search_input = {\n",
    "    \"user_api_email\": user_api_email,\n",
    "    \"token\": access_token,\n",
    "    \"patient_metadata\": patient_metadata,\n",
    "    \"robustness\": \"100\", # Range: 0-100. Higher values produces more documents but slower. Default: 20.\n",
    "}\n",
    "\n",
    "# Set headers for the API request\n",
    "headers = {\n",
    "    \"Content-Type\": \"application/json\"\n",
    "}"
   ]
  },
  {
   "cell_type": "code",
   "execution_count": null,
   "metadata": {},
   "outputs": [],
   "source": [
    "# Metadata Search\n",
    "print(\"Testing search-patient with patient metadata:\")\n",
    "search_response = requests.post(search_patient_url, headers=headers, data=json.dumps(search_input))\n",
    "print(f\"Status Code: {search_response.status_code}\")\n",
    "print(f\"Response: {search_response.json()}\")\n",
    "\n",
    "print(\"\\n\" + \"-\"*50 + \"\\n\")\n",
    "\n",
    "# Validate responses\n",
    "if search_response.status_code in [200, 202]:\n",
    "    print(\"\\nMetadata search successful!\")\n",
    "    # Store the conversation_id and pid for future use\n",
    "    search_result = search_response.json()\n",
    "    print(f\"Conversation ID: {search_result.get('conversation_id')}\")\n",
    "    print(f\"Patient ID: {search_result.get('pid')}\")\n",
    "    conversation_id = search_result.get('conversation_id')\n",
    "    patient_id = search_result.get('pid')\n",
    "else:\n",
    "    print(f\"\\nMetadata search failed with status code: {search_response.status_code}\")\n"
   ]
  },
  {
   "cell_type": "markdown",
   "metadata": {},
   "source": [
    "### Document Retrieval\n",
    "This step retrieves the documents found during the patient search. This is part of the patient search workflow.\n",
    "\n",
    "Upon completed patient search, you will receive a presigned url to a zip folder with all the found patient documents"
   ]
  },
  {
   "cell_type": "code",
   "execution_count": 13,
   "metadata": {},
   "outputs": [],
   "source": [
    "request_url = f\"{base_url}retrieve-patient-docs\"\n",
    "\n",
    "document_retrieval_input = {\n",
    "    \"user_api_email\": user_api_email,\n",
    "    \"token\": access_token,\n",
    "    \"conversation_id\": conversation_id,\n",
    "    \"patient_id\": patient_id,\n",
    "}"
   ]
  },
  {
   "cell_type": "code",
   "execution_count": null,
   "metadata": {},
   "outputs": [],
   "source": [
    "# Test the retrieve-patient-docs API endpoint\n",
    "headers = {\n",
    "    \"Content-Type\": \"application/json\"\n",
    "}\n",
    "\n",
    "# Conversation ID and Patient ID\n",
    "print(\"Testing retrieve docs with conversation_id and patient_id:\")\n",
    "\n",
    "while True:\n",
    "    response = requests.post(request_url, headers=headers, data=json.dumps(document_retrieval_input))\n",
    "    print(f\"Status Code: {response.status_code}\")\n",
    "    response_json = response.json()\n",
    "    print(f\"Response: {response_json}\")\n",
    "\n",
    "    if response.status_code == 200:\n",
    "        print(\"\\nConversation ID search successful!\")\n",
    "        # You can add more validation here based on expected response structure\n",
    "        break\n",
    "    elif response.status_code == 202:\n",
    "        print(f\"Response: {response_json['message']}\")\n",
    "        print(\"\\nProcessing in progress, waiting 30 seconds before retrying...\")\n",
    "        time.sleep(30)\n",
    "    else:\n",
    "        print(f\"\\nConversation ID search failed with status code: {response.status_code}\")\n",
    "        break\n"
   ]
  },
  {
   "cell_type": "markdown",
   "metadata": {},
   "source": [
    "## Option B: Only Document Upload 📤"
   ]
  },
  {
   "cell_type": "markdown",
   "metadata": {},
   "source": [
    "This section demonstrates the second method of data aggregation - uploading your own documents. You can submit CDA, FHIR, PDFs, or images for processing."
   ]
  },
  {
   "cell_type": "code",
   "execution_count": 9,
   "metadata": {},
   "outputs": [],
   "source": [
    "# Define the upload endpoint\n",
    "request_url = f\"{base_url}upload-patient-docs\"\n",
    "\n",
    "# Example of how to load and encode your files\n",
    "# Uncomment and modify these lines with your actual file paths\n",
    "# pdf1 = base64.b64encode(open(\"path/to/your/file1.pdf\", \"rb\").read()).decode('utf-8')\n",
    "# pdf2 = base64.b64encode(open(\"path/to/your/file2.pdf\", \"rb\").read()).decode('utf-8')\n",
    "# cda = base64.b64encode(open(\"path/to/your/cda_file.txt\", \"rb\").read()).decode('utf-8')\n",
    "# fhir = base64.b64encode(open(\"path/to/your/fhir_file.json\", \"rb\").read()).decode('utf-8')\n",
    "\n",
    "# Structure your files dictionary\n",
    "files = {\n",
    "    \"non_text\": [\n",
    "        # Add your base64 encoded PDFs, PNGs, TIFFs, or JPEGs here\n",
    "    ],\n",
    "    \"cda\": [\n",
    "        # Add your base64 encoded CDA documents here\n",
    "    ],\n",
    "    \"fhir\": [\n",
    "        # Add your base64 encoded FHIR documents here\n",
    "    ],\n",
    "}\n",
    "\n",
    "upload_input = {\n",
    "    \"user_api_email\": user_api_email,\n",
    "    \"patient_metadata\": patient_metadata[0], # Dictionary of single patient metadata\n",
    "    \"token\": access_token,\n",
    "    \"files\": files\n",
    "}"
   ]
  },
  {
   "cell_type": "code",
   "execution_count": null,
   "metadata": {},
   "outputs": [],
   "source": [
    "# Make the API requests\n",
    "headers = {\n",
    "    \"Content-Type\": \"application/json\"\n",
    "}\n",
    "\n",
    "print(\"\\n\" + \"-\"*50 + \"\\n\")\n",
    "print(\"Testing upload with patient_metadata:\")\n",
    "response = requests.post(request_url, headers=headers, data=json.dumps(upload_input))\n",
    "print(f\"Status Code: {response.status_code}\")\n",
    "print(f\"Response: {response.json()}\")\n"
   ]
  },
  {
   "cell_type": "markdown",
   "metadata": {},
   "source": [
    "## Option C: Hybrid Approach 🔄"
   ]
  },
  {
   "cell_type": "markdown",
   "metadata": {
    "vscode": {
     "languageId": "raw"
    }
   },
   "source": [
    "This section demonstrates how to combine network-retrieved documents with your own uploaded documents in the same conversation. This is useful when you want to supplement network data with your own records.\n",
    "\n",
    "To use the hybrid approach:\n",
    "1. First perform a patient search (Option A)\n",
    "2. Then use the same conversation_id when uploading your documents\n",
    "3. This will ensure all documents are processed together\n"
   ]
  },
  {
   "cell_type": "code",
   "execution_count": null,
   "metadata": {},
   "outputs": [],
   "source": [
    "# Example of hybrid approach - using the same conversation_id from patient search\n",
    "hybrid_upload_input = {\n",
    "    \"user_api_email\": user_api_email,\n",
    "    \"patient_metadata\": patient_metadata[0],\n",
    "    \"token\": access_token,\n",
    "    \"files\": files,\n",
    "    \"conversation_id\": conversation_id  # Using the conversation_id from patient search\n",
    "}\n"
   ]
  },
  {
   "cell_type": "code",
   "execution_count": null,
   "metadata": {},
   "outputs": [],
   "source": [
    "# Make the API request for hybrid upload\n",
    "hybrid_response = requests.post(\n",
    "    f\"{base_url}upload-patient-docs\", \n",
    "    headers=headers, \n",
    "    data=json.dumps(hybrid_upload_input)\n",
    ")\n",
    "print(f\"Status Code: {hybrid_response.status_code}\")\n",
    "print(f\"Response: {hybrid_response.json()}\")\n"
   ]
  },
  {
   "cell_type": "markdown",
   "metadata": {},
   "source": [
    "# Step 3: Summarization 🧠"
   ]
  },
  {
   "cell_type": "markdown",
   "metadata": {
    "vscode": {
     "languageId": "raw"
    }
   },
   "source": [
    "This section demonstrates how to:\n",
    "1. Request an AI-generated clinical summary\n",
    "2. Retrieve the structured JSON output\n",
    "3. Analyze the summarized data\n",
    "\n",
    "The summary will include:\n",
    "- Patient history and presenting illness (HPI)\n",
    "- Lab results and imaging studies\n",
    "- Vital signs\n",
    "- Allergies\n",
    "- Family and social history\n",
    "- Past clinical events\n",
    "- Historical followups\n",
    "- Provider information\n",
    "- Medication history\n"
   ]
  },
  {
   "cell_type": "markdown",
   "metadata": {},
   "source": [
    "## Request an AI-generated clinical summary"
   ]
  },
  {
   "cell_type": "code",
   "execution_count": null,
   "metadata": {},
   "outputs": [],
   "source": [
    "# Define the request-summary API endpoint\n",
    "request_summary_url = f\"{base_url}/request-summary\"\n",
    "\n",
    "# Create the request body\n",
    "request_summary_input = {\n",
    "    \"user_api_email\": user_api_email,\n",
    "    \"patient_id\": patient_id,\n",
    "    \"conversation_id\": conversation_id,\n",
    "    \"token\": access_token\n",
    "}\n",
    "\n",
    "# Test the request-summary API endpoint\n",
    "print(\"Testing request-summary API:\")\n",
    "request_summary_response = requests.post(\n",
    "    request_summary_url, \n",
    "    headers={\"Content-Type\": \"application/json\"}, \n",
    "    data=json.dumps(request_summary_input)\n",
    ")\n",
    "print(f\"Status Code: {request_summary_response.status_code}\")\n",
    "print(f\"Response: {request_summary_response.json()}\")\n",
    "\n",
    "# Validate response\n",
    "if request_summary_response.status_code == 202:\n",
    "    print(\"\\nSummary request accepted and being processed!\")\n",
    "    summary_result = request_summary_response.json()\n",
    "else:\n",
    "    print(f\"\\nSummary request failed with status code: {request_summary_response.status_code}\")\n",
    "    print(f\"Failure reason: {request_summary_response.json().get('message')}\")\n"
   ]
  },
  {
   "cell_type": "markdown",
   "metadata": {},
   "source": [
    "## Retrieve AI Summary"
   ]
  },
  {
   "cell_type": "code",
   "execution_count": null,
   "metadata": {},
   "outputs": [],
   "source": [
    "# Define the retrieve-summary API endpoint\n",
    "retrieve_summary_url = f\"{base_url}/retrieve-summary\"\n",
    "\n",
    "# Create the request body using the same conversation_id\n",
    "retrieve_summary_input = {\n",
    "    \"conversation_id\": conversation_id,\n",
    "    \"token\": access_token,\n",
    "    \"user_api_email\": user_api_email,\n",
    "    \"patient_id\": patient_id\n",
    "}\n",
    "\n",
    "# Test the retrieve-summary API endpoint\n",
    "print(\"Testing retrieve-summary API:\")\n",
    "while True:\n",
    "    retrieve_summary_response = requests.post(\n",
    "        retrieve_summary_url, \n",
    "        headers=headers, \n",
    "        data=json.dumps(retrieve_summary_input)\n",
    "    )\n",
    "    print(f\"Status Code: {retrieve_summary_response.status_code}\")\n",
    "    response_json = retrieve_summary_response.json()\n",
    "    print(f\"Response: {response_json}\")\n",
    "\n",
    "    # Validate response\n",
    "    if retrieve_summary_response.status_code == 200:\n",
    "        print(\"\\nSummary retrieved successfully!\")\n",
    "        print(f\"Posted: {response_json.get('posted')}\")\n",
    "        print(f\"URL: {response_json.get('url')}\")\n",
    "        break\n",
    "    elif retrieve_summary_response.status_code == 202:\n",
    "        print(\"\\nSummary is still being processed. Retrying in 30 seconds...\")\n",
    "        time.sleep(30)\n",
    "    else:\n",
    "        print(f\"\\nSummary retrieval failed with status code: {retrieve_summary_response.status_code}\")\n",
    "        print(f\"Failure reason: {retrieve_summary_response.json().get('failure_reason')}\")\n",
    "        break\n"
   ]
  },
  {
   "cell_type": "code",
   "execution_count": null,
   "metadata": {},
   "outputs": [],
   "source": [
    "# Once the summary is ready, you can download it using the presigned URL\n",
    "output_json = requests.get(retrieve_summary_response.json()['url']).content\n",
    "\n",
    "# The output will be a JSON object containing structured clinical data\n",
    "# Example structure (actual data will be populated with patient information):\n",
    "example_structure = {\n",
    "    \"HPI\": \"Patient history and presenting illness\",\n",
    "    \"Labs\": [\"Lab test 1: result\", \"Lab test 2: result\"],\n",
    "    \"Images\": [\"Imaging study 1: findings\", \"Imaging study 2: findings\"],\n",
    "    \"Vitals\": [\"BP: value\", \"HR: value\", \"Temperature: value\"],\n",
    "    \"Allergies\": [\"Allergy 1: reaction\", \"Allergy 2: reaction\"],\n",
    "    \"Family History\": \"Relevant family medical history\",\n",
    "    \"Social History\": \"Relevant social and lifestyle factors\",\n",
    "    \"Past Clinical Events\": [\"Event 1\", \"Event 2\"],\n",
    "    \"All Historical Followups\": [\"Followup 1\", \"Followup 2\"],\n",
    "    \"All Historical Providers\": [\"Provider 1\", \"Provider 2\"],\n",
    "    \"All Historical Medications\": [\"Medication 1\", \"Medication 2\"]\n",
    "}\n",
    "\n",
    "print(\"Retrieved summary structure:\")\n",
    "print(json.dumps(example_structure, indent=2))"
   ]
  },
  {
   "cell_type": "markdown",
   "metadata": {
    "vscode": {
     "languageId": "raw"
    }
   },
   "source": [
    "# Step 4: Push Medical Document 📝"
   ]
  },
  {
   "cell_type": "markdown",
   "metadata": {},
   "source": [
    "This final step demonstrates how to submit an updated treatment note back to the Carequality® network, fulfilling HIE reciprocity requirements. This allows you to:\n",
    "1. Share your findings with other healthcare providers\n",
    "2. Maintain continuity of care\n",
    "3. Contribute to the patient's comprehensive health record\n",
    "\n",
    "The document you push should include:\n",
    "- Patient information\n",
    "- Provider/Author details\n",
    "- Clinical assessment\n",
    "- Treatment summary\n",
    "- Any relevant updates to the patient's record\n"
   ]
  },
  {
   "cell_type": "code",
   "execution_count": null,
   "metadata": {},
   "outputs": [],
   "source": [
    "push_document_url = f\"{base_url}push-document\"\n",
    "\n",
    "# Prepare the input for pushing a document\n",
    "# This includes patient details, author information, and summary content\n",
    "push_document_input = {\n",
    "    # Patient information\n",
    "    \"patient\": {\n",
    "        \"pid\": \"unique id of the patient\",                   # Required - Unique patient identifier\n",
    "        \"given_name\": \"first name of the patient\",           # Required if no pid provided\n",
    "        \"family_name\": \"last name of the patient\",           # Required if no pid provided  \n",
    "        \"birth_time\": \"date of birth of the patient\",        # Required if no pid provided\n",
    "        \"administrative_gender_code\": \"sex of the patient\",   # Required if no pid provided\n",
    "        \"phone_number\": \"phone number of the patient\",       # Optional contact info\n",
    "        \"email\": \"email of the patient\",                     # Optional contact info\n",
    "        \"street_address_line\": \"patient's address line\",     # Optional address info\n",
    "        \"city\": \"patient's city\",                           # Optional address info\n",
    "        \"state\": \"patient's state\",                         # Optional address info\n",
    "        \"postal_code\": \"patient's zipcode\",                 # Optional address info\n",
    "        \"country\": \"patient's country\"                      # Optional address info\n",
    "    },\n",
    "    \n",
    "    # Author/Provider information \n",
    "    \"author\": {\n",
    "        \"given_name\": \"first name of the author\",           # Required\n",
    "        \"family_name\": \"last name of the author\",           # Required\n",
    "        \"authored_on\": \"date of the document\",              # Required - Document creation date\n",
    "        \"npi\": \"national provider identifier\",              # Required - Provider NPI number\n",
    "        \"specialty\": \"provider's specialty\"                 # Required - Medical specialty\n",
    "    },\n",
    "    \n",
    "    # Document content and metadata\n",
    "    \"summary_assessment\": \"clinical context of the summary in plain text\",  # Required\n",
    "    \"summary_edited\": \"summary with edits made\",                           # Required\n",
    "    \"summary_format\": \"text/json. Defaults to text.\",                      # Optional - Format specification\n",
    "    \"user_api_email\": \"string\",                                           # Required - API user email\n",
    "    \"token\": \"string\"                                                     # Required - Authentication token\n",
    "}"
   ]
  },
  {
   "cell_type": "code",
   "execution_count": null,
   "metadata": {},
   "outputs": [],
   "source": [
    "push_document_response = requests.post(push_document_url, headers=headers, data=json.dumps(push_document_input))\n",
    "print(f\"Status Code: {push_document_response.status_code}\")\n",
    "print(f\"Response: {push_document_response.json()}\")\n",
    "\n",
    "if push_document_response.status_code == 200:\n",
    "    print(\"\\nDocument pushed successfully!\")\n",
    "    push_document_result = push_document_response.json()\n",
    "    print(f\"Conversation ID: {push_document_result.get('conversation_id')}\")"
   ]
  }
 ],
 "metadata": {
  "kernelspec": {
   "display_name": "base",
   "language": "python",
   "name": "python3"
  },
  "language_info": {
   "codemirror_mode": {
    "name": "ipython",
    "version": 3
   },
   "file_extension": ".py",
   "mimetype": "text/x-python",
   "name": "python",
   "nbconvert_exporter": "python",
   "pygments_lexer": "ipython3",
   "version": "3.11.4"
  }
 },
 "nbformat": 4,
 "nbformat_minor": 2
}
